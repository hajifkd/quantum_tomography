{
 "cells": [
  {
   "cell_type": "code",
   "execution_count": 14,
   "metadata": {},
   "outputs": [],
   "source": [
    "from qiskit.circuit import QuantumCircuit\n",
    "import matplotlib.pyplot as plt\n",
    "import numpy as np\n",
    "from qiskit.transpiler import PassManager"
   ]
  },
  {
   "cell_type": "code",
   "execution_count": 15,
   "metadata": {},
   "outputs": [],
   "source": [
    "from qiskit_ibm_runtime import QiskitRuntimeService, Session, SamplerV2 as Sampler\n",
    "from qiskit_ibm_runtime.transpiler.passes.scheduling import DynamicCircuitInstructionDurations, ALAPScheduleAnalysis, PadDelay"
   ]
  },
  {
   "cell_type": "markdown",
   "metadata": {},
   "source": [
    "I'll use the AerSimulater. See [here](https://docs.quantum.ibm.com/api/qiskit-ibm-runtime/runtime_service#local-testing-mode)"
   ]
  },
  {
   "cell_type": "code",
   "execution_count": 3,
   "metadata": {},
   "outputs": [],
   "source": [
    "from qiskit_aer import AerSimulator"
   ]
  },
  {
   "cell_type": "code",
   "execution_count": 4,
   "metadata": {},
   "outputs": [],
   "source": [
    "from qiskit.transpiler.preset_passmanagers import generate_preset_pass_manager"
   ]
  },
  {
   "cell_type": "code",
   "execution_count": 5,
   "metadata": {},
   "outputs": [
    {
     "data": {
      "text/plain": [
       "True"
      ]
     },
     "execution_count": 5,
     "metadata": {},
     "output_type": "execute_result"
    }
   ],
   "source": [
    "from dotenv import load_dotenv\n",
    "import os\n",
    "load_dotenv()"
   ]
  },
  {
   "cell_type": "markdown",
   "metadata": {},
   "source": [
    "At this point, we will not use the real machine, but I imported here"
   ]
  },
  {
   "cell_type": "code",
   "execution_count": 6,
   "metadata": {},
   "outputs": [],
   "source": [
    "service = QiskitRuntimeService(channel='ibm_quantum', token=os.getenv(\n",
    "    'IBMQ_TOKEN'), instance='ibm-q/open/main')"
   ]
  },
  {
   "cell_type": "markdown",
   "metadata": {},
   "source": [
    "Use FakeKawasaki noise model"
   ]
  },
  {
   "cell_type": "code",
   "execution_count": 16,
   "metadata": {},
   "outputs": [],
   "source": [
    "from qiskit_ibm_runtime.fake_provider import FakeKawasaki\n",
    "device_backend = FakeKawasaki()"
   ]
  },
  {
   "cell_type": "code",
   "execution_count": 23,
   "metadata": {},
   "outputs": [],
   "source": [
    "simulator = AerSimulator.from_backend(device_backend)\n",
    "pass_manager = generate_preset_pass_manager(backend=simulator, optimization_level=0)\n",
    "durations = DynamicCircuitInstructionDurations.from_backend(device_backend)\n",
    "pass_manager.scheduling = PassManager(\n",
    "    [ALAPScheduleAnalysis(durations), PadDelay(durations)])"
   ]
  },
  {
   "cell_type": "markdown",
   "metadata": {},
   "source": [
    "Construct quantum circuits"
   ]
  },
  {
   "cell_type": "code",
   "execution_count": 28,
   "metadata": {},
   "outputs": [],
   "source": [
    "qc = QuantumCircuit(1)\n",
    "qc.x(0)\n",
    "qc.delay(10, unit='us')\n",
    "qc.measure_all()"
   ]
  },
  {
   "cell_type": "code",
   "execution_count": 29,
   "metadata": {},
   "outputs": [
    {
     "data": {
      "image/png": "[encoded data removed]",
      "text/plain": [
       "<Figure size 496.776x200.667 with 1 Axes>"
      ]
     },
     "execution_count": 29,
     "metadata": {},
     "output_type": "execute_result"
    }
   ],
   "source": [
    "qc.draw(\"mpl\")"
   ]
  },
  {
   "cell_type": "code",
   "execution_count": 42,
   "metadata": {},
   "outputs": [
    {
     "data": {
      "image/png": "[encoded data removed]",
      "text/plain": [
       "<Figure size 590.204x200.667 with 1 Axes>"
      ]
     },
     "execution_count": 42,
     "metadata": {},
     "output_type": "execute_result"
    }
   ],
   "source": [
    "isa_qc = pass_manager.run(qc)\n",
    "isa_qc.draw(\"mpl\", idle_wires=False)"
   ]
  },
  {
   "cell_type": "code",
   "execution_count": 31,
   "metadata": {},
   "outputs": [
    {
     "name": "stdout",
     "output_type": "stream",
     "text": [
      "BitArray(<shape=(), num_shots=10000, num_bits=1>)\n"
     ]
    },
    {
     "data": {
      "image/png": "[encoded data removed]",
      "text/plain": [
       "<Figure size 640x480 with 1 Axes>"
      ]
     },
     "metadata": {},
     "output_type": "display_data"
    }
   ],
   "source": [
    "isa_qc = pass_manager.run(qc)\n",
    "with Session(backend=simulator) as session:\n",
    "    sampler = Sampler(mode=session)\n",
    "    result = sampler.run([isa_qc], shots=10000).result()[0].data.meas\n",
    "    print(result)\n",
    "    plt.bar(result.get_counts().keys(), result.get_counts().values())\n",
    "    plt.show()"
   ]
  },
  {
   "cell_type": "markdown",
   "metadata": {},
   "source": [
    "As an example, let's see how 1 de-excite with delay."
   ]
  },
  {
   "cell_type": "code",
   "execution_count": 38,
   "metadata": {},
   "outputs": [],
   "source": [
    "delays = np.logspace(0, 3, 15) # delays in us"
   ]
  },
  {
   "cell_type": "code",
   "execution_count": 39,
   "metadata": {},
   "outputs": [
    {
     "name": "stderr",
     "output_type": "stream",
     "text": [
      "/home/hfukuda/git/quantum_tomography/.venv/lib/python3.10/site-packages/qiskit/circuit/duration.py:37: UserWarning: Duration is rounded to 7371 [dt] = 1.638000e-06 [s] from 1.637894e-06 [s]\n",
      "  warnings.warn(\n",
      "/home/hfukuda/git/quantum_tomography/.venv/lib/python3.10/site-packages/qiskit/circuit/duration.py:37: UserWarning: Duration is rounded to 12072 [dt] = 2.682667e-06 [s] from 2.682696e-06 [s]\n",
      "  warnings.warn(\n",
      "/home/hfukuda/git/quantum_tomography/.venv/lib/python3.10/site-packages/qiskit/circuit/duration.py:37: UserWarning: Duration is rounded to 19773 [dt] = 4.394000e-06 [s] from 4.393971e-06 [s]\n",
      "  warnings.warn(\n",
      "/home/hfukuda/git/quantum_tomography/.venv/lib/python3.10/site-packages/qiskit/circuit/duration.py:37: UserWarning: Duration is rounded to 32386 [dt] = 7.196889e-06 [s] from 7.196857e-06 [s]\n",
      "  warnings.warn(\n",
      "/home/hfukuda/git/quantum_tomography/.venv/lib/python3.10/site-packages/qiskit/circuit/duration.py:37: UserWarning: Duration is rounded to 53045 [dt] = 1.178778e-05 [s] from 1.178769e-05 [s]\n",
      "  warnings.warn(\n",
      "/home/hfukuda/git/quantum_tomography/.venv/lib/python3.10/site-packages/qiskit/circuit/duration.py:37: UserWarning: Duration is rounded to 86881 [dt] = 1.930689e-05 [s] from 1.930698e-05 [s]\n",
      "  warnings.warn(\n",
      "/home/hfukuda/git/quantum_tomography/.venv/lib/python3.10/site-packages/qiskit/circuit/duration.py:37: UserWarning: Duration is rounded to 142302 [dt] = 3.162267e-05 [s] from 3.162278e-05 [s]\n",
      "  warnings.warn(\n",
      "/home/hfukuda/git/quantum_tomography/.venv/lib/python3.10/site-packages/qiskit/circuit/duration.py:37: UserWarning: Duration is rounded to 233076 [dt] = 5.179467e-05 [s] from 5.179475e-05 [s]\n",
      "  warnings.warn(\n",
      "/home/hfukuda/git/quantum_tomography/.venv/lib/python3.10/site-packages/qiskit/circuit/duration.py:37: UserWarning: Duration is rounded to 381754 [dt] = 8.483422e-05 [s] from 8.483429e-05 [s]\n",
      "  warnings.warn(\n",
      "/home/hfukuda/git/quantum_tomography/.venv/lib/python3.10/site-packages/qiskit/circuit/duration.py:37: UserWarning: Duration is rounded to 625273 [dt] = 1.389496e-04 [s] from 1.389495e-04 [s]\n",
      "  warnings.warn(\n",
      "/home/hfukuda/git/quantum_tomography/.venv/lib/python3.10/site-packages/qiskit/circuit/duration.py:37: UserWarning: Duration is rounded to 1024131 [dt] = 2.275847e-04 [s] from 2.275846e-04 [s]\n",
      "  warnings.warn(\n",
      "/home/hfukuda/git/quantum_tomography/.venv/lib/python3.10/site-packages/qiskit/circuit/duration.py:37: UserWarning: Duration is rounded to 1677417 [dt] = 3.727593e-04 [s] from 3.727594e-04 [s]\n",
      "  warnings.warn(\n",
      "/home/hfukuda/git/quantum_tomography/.venv/lib/python3.10/site-packages/qiskit/circuit/duration.py:37: UserWarning: Duration is rounded to 2747431 [dt] = 6.105402e-04 [s] from 6.105402e-04 [s]\n",
      "  warnings.warn(\n"
     ]
    }
   ],
   "source": [
    "rates = []\n",
    "shots = 10000\n",
    "for delay in delays:\n",
    "    qc = QuantumCircuit(1)\n",
    "    qc.x(0)\n",
    "    qc.delay(delay, unit='us')\n",
    "    qc.measure_all()\n",
    "    isa_qc = pass_manager.run(qc)\n",
    "    with Session(backend=simulator) as session:\n",
    "        sampler = Sampler(mode=session)\n",
    "        result = sampler.run([isa_qc], shots=shots).result()[0].data.meas\n",
    "        rates.append(result.get_counts()['0']/shots)"
   ]
  },
  {
   "cell_type": "code",
   "execution_count": 40,
   "metadata": {},
   "outputs": [
    {
     "data": {
      "image/png": "[encoded data removed]",
      "text/plain": [
       "<Figure size 640x480 with 1 Axes>"
      ]
     },
     "metadata": {},
     "output_type": "display_data"
    }
   ],
   "source": [
    "plt.plot(delays, rates)\n",
    "plt.xscale('log')"
   ]
  },
  {
   "cell_type": "markdown",
   "metadata": {},
   "source": [
    "Indeed, it de-excites into $|0\\rangle$, although it is not completely exponential. "
   ]
  },
  {
   "cell_type": "code",
   "execution_count": null,
   "metadata": {},
   "outputs": [],
   "source": []
  }
 ],
 "metadata": {
  "kernelspec": {
   "display_name": ".venv",
   "language": "python",
   "name": "python3"
  },
  "language_info": {
   "codemirror_mode": {
    "name": "ipython",
    "version": 3
   },
   "file_extension": ".py",
   "mimetype": "text/x-python",
   "name": "python",
   "nbconvert_exporter": "python",
   "pygments_lexer": "ipython3",
   "version": "3.10.12"
  }
 },
 "nbformat": 4,
 "nbformat_minor": 2
}
